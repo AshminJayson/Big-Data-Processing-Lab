{
 "cells": [
  {
   "cell_type": "code",
   "execution_count": 1,
   "metadata": {
    "vscode": {
     "languageId": "r"
    }
   },
   "outputs": [
    {
     "name": "stdout",
     "output_type": "stream",
     "text": [
      "[1] \"The input datasets are: \"\n",
      "    name id cgpa1\n",
      "1 ashmin  1     5\n",
      "2    anz  2     6\n",
      "3    ada  3     5\n",
      "4    ara  4     5\n",
      "  id cgpa2\n",
      "1  1     7\n",
      "2  2     1\n",
      "3  3     3\n",
      "4  4     2\n",
      "MERGED DATAFRAME \n",
      "  id   name cgpa1 cgpa2\n",
      "1  1 ashmin     5     7\n",
      "2  2    anz     6     1\n",
      "3  3    ada     5     3\n",
      "4  4    ara     5     2\n"
     ]
    },
    {
     "data": {
      "text/plain": [
       "NULL"
      ]
     },
     "metadata": {},
     "output_type": "display_data"
    },
    {
     "name": "stdout",
     "output_type": "stream",
     "text": [
      "The maximum values in each row is :  7 6 5 5\n",
      "The maximum values in each column is :  ashmin 6 7"
     ]
    }
   ],
   "source": [
    "# Ashmin Jayson S6 DS Roll No : 14\n",
    "# Experiment 5 : Palindrome\n",
    "# Date : 29th May 2023\n",
    "\n",
    "df1 = read.table(\"./d1.txt\", sep=\",\", header = TRUE)\n",
    "df2 = read.table(\"./d2.txt\", sep=\",\", header = TRUE)\n",
    "\n",
    "print('The input datasets are: ')\n",
    "print(df1)\n",
    "print(df2)\n",
    "df3 = merge(df1, df2, by='id')\n",
    "cat('MERGED DATAFRAME \\n')\n",
    "print(df3)\n",
    "\n",
    "df3['cgpa'] = sapply(df3['cgpa1'], as.numeric)\n",
    "df3['gpa'] = sapply(df3['cgpa2'], as.numeric)\n",
    "\n",
    "palindrome = function(row) {\n",
    "    name = row['name']\n",
    "    namelist = strsplit(name, NULL)[[1]]\n",
    "    revnamelist = rev(namelist)\n",
    "    \n",
    "    if (identical(namelist, revnamelist)) {\n",
    "\n",
    "        cat(name, file = \"output.txt\", sep = \"\\n\", append = TRUE)\n",
    "\n",
    "    }\n",
    "}\n",
    "\n",
    "apply(df3, 1, palindrome)\n",
    "\n",
    "maxmsr <- apply(df3[c('cgpa1','cgpa2')], 1, max, na.rm=TRUE)\n",
    "cat('The maximum values in each row is : ', maxmsr)\n",
    "maxmsc<- apply(df3[c('name','cgpa1','cgpa2')], 2, max, na.rm=TRUE)\n",
    "cat('\\nThe maximum values in each column is : ', maxmsc)\n",
    "\n",
    "\n"
   ]
  }
 ],
 "metadata": {
  "kernelspec": {
   "display_name": "R",
   "language": "R",
   "name": "ir"
  },
  "language_info": {
   "codemirror_mode": "r",
   "file_extension": ".r",
   "mimetype": "text/x-r-source",
   "name": "R",
   "pygments_lexer": "r",
   "version": "4.1.2"
  },
  "orig_nbformat": 4
 },
 "nbformat": 4,
 "nbformat_minor": 2
}
